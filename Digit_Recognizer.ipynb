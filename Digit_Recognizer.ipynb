{
 "cells": [
  {
   "cell_type": "markdown",
   "metadata": {},
   "source": [
    "# Digit Recognizer"
   ]
  },
  {
   "cell_type": "markdown",
   "metadata": {},
   "source": [
    "This work is to build an accurate recognizer to read hand-written digits for a Kaggle competition (https://www.kaggle.com/c/digit-recognizer/overview). \n",
    "\n",
    "#### Content\n",
    "* [1. Introduction](#Part_1)\n",
    "* [2. Data Preparation](#Part_2)\n",
    "* [3. Modeling](#Part_3)\n",
    "    * [3.1 Logistic Model](#Part_3_1)\n",
    "    * [3.2 XGBoost](#Part_3_2)\n",
    "    * [3.3 CNN](#Part_3_3)\n",
    "* [4. Summary and Submissions](#Part_4)"
   ]
  },
  {
   "cell_type": "markdown",
   "metadata": {},
   "source": [
    "### 1. Introduction <a id='Part_1'></a>"
   ]
  },
  {
   "cell_type": "markdown",
   "metadata": {},
   "source": [
    "The goal of this work is to build models to recognize the hand-written digit images, so this is a typical classification problem.\n",
    "\n",
    "The data set used in this work is the famous MNIST data. Each digit image in the data set is 28 pixels in height and 28 pixels in width, for a total of 784 pixels in total. And Each pixel has a single pixel-value associated with it, indicating the lightness or darkness of that pixel.\n",
    "\n",
    "Several digit recognizers will be built using Logistic model, tree-based boosting methood (XGBoost), and Convolutional Neural Network. The perfomance of the models will be assessed based on the accuracy of classification. The results from the best model will be submitted to Kaggle.\n"
   ]
  },
  {
   "cell_type": "markdown",
   "metadata": {},
   "source": [
    "### 2. Data Preparation <a id='Part_2'></a>"
   ]
  },
  {
   "cell_type": "code",
   "execution_count": 1,
   "metadata": {},
   "outputs": [],
   "source": [
    "# import basic libraries\n",
    "import pandas as pd\n",
    "import numpy as np\n",
    "import seaborn as sns\n",
    "\n",
    "import matplotlib.pyplot as plt\n",
    "%matplotlib inline\n",
    "\n",
    "from sklearn.model_selection import train_test_split\n",
    "from sklearn.preprocessing import OneHotEncoder"
   ]
  },
  {
   "cell_type": "markdown",
   "metadata": {},
   "source": [
    "Load and prcess the training and test data."
   ]
  },
  {
   "cell_type": "code",
   "execution_count": 2,
   "metadata": {},
   "outputs": [],
   "source": [
    "# Load the data\n",
    "train = pd.read_csv(\"./input/train.csv\")\n",
    "test = pd.read_csv(\"./input/test.csv\")\n",
    "\n",
    "# separate x_train and y_tain\n",
    "x_train = train.drop(labels=['label'], axis=1)\n",
    "y_train = train['label']"
   ]
  },
  {
   "cell_type": "markdown",
   "metadata": {},
   "source": [
    "#### Check the distribution of labels"
   ]
  },
  {
   "cell_type": "code",
   "execution_count": 3,
   "metadata": {},
   "outputs": [
    {
     "data": {
      "text/plain": [
       "1    4684\n",
       "7    4401\n",
       "3    4351\n",
       "9    4188\n",
       "2    4177\n",
       "6    4137\n",
       "0    4132\n",
       "4    4072\n",
       "8    4063\n",
       "5    3795\n",
       "Name: label, dtype: int64"
      ]
     },
     "execution_count": 3,
     "metadata": {},
     "output_type": "execute_result"
    }
   ],
   "source": [
    "y_train.value_counts()  # count for each labels"
   ]
  },
  {
   "cell_type": "code",
   "execution_count": 4,
   "metadata": {},
   "outputs": [
    {
     "name": "stderr",
     "output_type": "stream",
     "text": [
      "/Users/harryliyi/opt/anaconda3/envs/py37/lib/python3.7/site-packages/seaborn/_decorators.py:43: FutureWarning: Pass the following variable as a keyword arg: x. From version 0.12, the only valid positional argument will be `data`, and passing other arguments without an explicit keyword will result in an error or misinterpretation.\n",
      "  FutureWarning\n"
     ]
    },
    {
     "data": {
      "image/png": "[encoded data removed]",
      "text/plain": [
       "<Figure size 432x288 with 1 Axes>"
      ]
     },
     "metadata": {
      "needs_background": "light"
     },
     "output_type": "display_data"
    }
   ],
   "source": [
    "# plot counts for each label\n",
    "fig = sns.countplot(y_train)"
   ]
  },
  {
   "cell_type": "markdown",
   "metadata": {},
   "source": [
    "The distribution of labels is quite even, so no need to worry about imbalanced data."
   ]
  },
  {
   "cell_type": "markdown",
   "metadata": {},
   "source": [
    "#### Check for missing values"
   ]
  },
  {
   "cell_type": "code",
   "execution_count": 5,
   "metadata": {
    "scrolled": false
   },
   "outputs": [
    {
     "data": {
      "text/plain": [
       "count    42000.0\n",
       "mean         0.0\n",
       "std          0.0\n",
       "min          0.0\n",
       "25%          0.0\n",
       "50%          0.0\n",
       "75%          0.0\n",
       "max          0.0\n",
       "dtype: float64"
      ]
     },
     "execution_count": 5,
     "metadata": {},
     "output_type": "execute_result"
    }
   ],
   "source": [
    "x_train.isnull().sum(axis=1).describe()"
   ]
  },
  {
   "cell_type": "code",
   "execution_count": 6,
   "metadata": {},
   "outputs": [
    {
     "data": {
      "text/plain": [
       "count    28000.0\n",
       "mean         0.0\n",
       "std          0.0\n",
       "min          0.0\n",
       "25%          0.0\n",
       "50%          0.0\n",
       "75%          0.0\n",
       "max          0.0\n",
       "dtype: float64"
      ]
     },
     "execution_count": 6,
     "metadata": {},
     "output_type": "execute_result"
    }
   ],
   "source": [
    "test.isnull().sum(axis=1).describe()"
   ]
  },
  {
   "cell_type": "markdown",
   "metadata": {},
   "source": [
    "There are 42000 training image and 2800 testing image. None of them contains any missing value."
   ]
  },
  {
   "cell_type": "markdown",
   "metadata": {},
   "source": [
    "#### Further process data for training"
   ]
  },
  {
   "cell_type": "markdown",
   "metadata": {},
   "source": [
    "Normalize and reshape the data."
   ]
  },
  {
   "cell_type": "code",
   "execution_count": 7,
   "metadata": {},
   "outputs": [],
   "source": [
    "# Normalize the data\n",
    "x_train = x_train / 255.0\n",
    "test = test / 255.0\n",
    "\n",
    "# reshape the data\n",
    "X_train = x_train.values.reshape(-1, 28, 28, 1)\n",
    "Test = test.values.reshape(-1, 28, 28, 1)"
   ]
  },
  {
   "cell_type": "code",
   "execution_count": 8,
   "metadata": {},
   "outputs": [],
   "source": [
    "# Encode labels to one hot vectors (e.g. : 1 -> [0,1,0,0,0,0,0,0,0,0])\n",
    "Y_train = pd.get_dummies(y_train)\n",
    "Y_train = Y_train.values"
   ]
  },
  {
   "cell_type": "code",
   "execution_count": 9,
   "metadata": {},
   "outputs": [
    {
     "name": "stdout",
     "output_type": "stream",
     "text": [
      "The label of 1st image is : 1\n",
      "The one hot vector of 1st image is : [0 1 0 0 0 0 0 0 0 0]\n"
     ]
    }
   ],
   "source": [
    "# check if it is converted successfully\n",
    "print('The label of 1st image is : {}'.format(y_train[0]))\n",
    "print('The one hot vector of 1st image is : {}'.format(Y_train[0]))"
   ]
  },
  {
   "cell_type": "markdown",
   "metadata": {},
   "source": [
    "#### Take a look at an example image"
   ]
  },
  {
   "cell_type": "code",
   "execution_count": 10,
   "metadata": {},
   "outputs": [
    {
     "data": {
      "image/png": "[encoded data removed]",
      "text/plain": [
       "<Figure size 432x288 with 1 Axes>"
      ]
     },
     "metadata": {
      "needs_background": "light"
     },
     "output_type": "display_data"
    }
   ],
   "source": [
    "# Some examples\n",
    "fig = plt.imshow(X_train[0][:,:,0], cmap='binary')"
   ]
  },
  {
   "cell_type": "markdown",
   "metadata": {},
   "source": [
    "Ok, it matches the label: 1"
   ]
  },
  {
   "cell_type": "markdown",
   "metadata": {},
   "source": [
    "### 3. Modeling <a id='Part_3'></a>"
   ]
  },
  {
   "cell_type": "markdown",
   "metadata": {},
   "source": [
    "I will use three different models, including Logistic model, XGBoost, and CNN. "
   ]
  },
  {
   "cell_type": "markdown",
   "metadata": {},
   "source": [
    "#### 3.1 Logistic Model <a id='Part_3_1'></a>"
   ]
  },
  {
   "cell_type": "markdown",
   "metadata": {},
   "source": [
    "Use Logistic model from Scikit-learn as a baseline. For logistic regression, the training data are not needed to be reshaped."
   ]
  },
  {
   "cell_type": "code",
   "execution_count": 11,
   "metadata": {},
   "outputs": [],
   "source": [
    "from sklearn.linear_model import LogisticRegression\n",
    "from sklearn.preprocessing import StandardScaler\n",
    "from sklearn import metrics"
   ]
  },
  {
   "cell_type": "code",
   "execution_count": 12,
   "metadata": {},
   "outputs": [],
   "source": [
    "# split data set\n",
    "X_train, X_val, Y_train, Y_val = train_test_split(x_train.values, y_train, test_size=0.1, random_state=23)"
   ]
  },
  {
   "cell_type": "code",
   "execution_count": 13,
   "metadata": {},
   "outputs": [],
   "source": [
    "# build the logistic model using default parameter\n",
    "LogisticModel = LogisticRegression(solver = 'lbfgs', multi_class='multinomial', max_iter=1000)"
   ]
  },
  {
   "cell_type": "code",
   "execution_count": 14,
   "metadata": {},
   "outputs": [
    {
     "data": {
      "text/plain": [
       "LogisticRegression(max_iter=1000, multi_class='multinomial')"
      ]
     },
     "execution_count": 14,
     "metadata": {},
     "output_type": "execute_result"
    }
   ],
   "source": [
    "# fitting the training set\n",
    "LogisticModel.fit(X_train, Y_train)"
   ]
  },
  {
   "cell_type": "code",
   "execution_count": 15,
   "metadata": {},
   "outputs": [
    {
     "name": "stdout",
     "output_type": "stream",
     "text": [
      "0.9157142857142857\n"
     ]
    }
   ],
   "source": [
    "# make the prediction\n",
    "Lg_preds = LogisticModel.predict(X_val)\n",
    "# calculate the accuracy based on the validation set\n",
    "Lg_acc = LogisticModel.score(X_val, Y_val)\n",
    "print(Lg_acc)"
   ]
  },
  {
   "cell_type": "markdown",
   "metadata": {},
   "source": [
    "The accuracy is 91.57%, it's not bad."
   ]
  },
  {
   "cell_type": "markdown",
   "metadata": {},
   "source": [
    "Take a look at the confusion matrix"
   ]
  },
  {
   "cell_type": "code",
   "execution_count": 16,
   "metadata": {},
   "outputs": [
    {
     "data": {
      "text/plain": [
       "Text(0.5, 1, 'Accuracy Score: 91.57%')"
      ]
     },
     "execution_count": 16,
     "metadata": {},
     "output_type": "execute_result"
    },
    {
     "data": {
      "image/png": "[encoded data removed]",
      "text/plain": [
       "<Figure size 648x648 with 2 Axes>"
      ]
     },
     "metadata": {
      "needs_background": "light"
     },
     "output_type": "display_data"
    }
   ],
   "source": [
    "# calculate the confusion matrix\n",
    "Lg_cm = metrics.confusion_matrix(Y_val, Lg_preds)\n",
    "\n",
    "plt.figure(figsize=(9,9))\n",
    "sns.heatmap(Lg_cm, annot=True, fmt=\".2f\", linewidths=.5, square = True, cmap = 'Blues')\n",
    "plt.ylabel('Actual label')\n",
    "plt.xlabel('Predicted label')\n",
    "all_sample_title = 'Accuracy Score: {0:.2f}%'.format(Lg_acc*100)\n",
    "plt.title(all_sample_title, size = 15)"
   ]
  },
  {
   "cell_type": "markdown",
   "metadata": {},
   "source": [
    "Overall, the performance is not bad, but there are some misclassifications between 2 and 8, 8 and 3, 4 and 9, and so on."
   ]
  },
  {
   "cell_type": "markdown",
   "metadata": {},
   "source": [
    "#### 3.2 XGBoost <a id='Part_3_2'></a>"
   ]
  },
  {
   "cell_type": "markdown",
   "metadata": {},
   "source": [
    "Let's see if tree based boosting method can improve performance. The model used here is XGBoost. "
   ]
  },
  {
   "cell_type": "code",
   "execution_count": 17,
   "metadata": {},
   "outputs": [],
   "source": [
    "from xgboost import XGBClassifier\n",
    "import xgboost as xgb"
   ]
  },
  {
   "cell_type": "markdown",
   "metadata": {},
   "source": [
    "In order to keep the consistency, the same taining and validation sets will be used here."
   ]
  },
  {
   "cell_type": "code",
   "execution_count": 18,
   "metadata": {},
   "outputs": [],
   "source": [
    "xgb_clf = XGBClassifier(booster='gbtree', \n",
    "                        objective='multi:softmax',\n",
    "                        max_depth=5, \n",
    "                        n_estimators=500, \n",
    "                        num_class=10,\n",
    "                        subsample=0.80,\n",
    "                        colsample_bytree=0.95\n",
    "                       )"
   ]
  },
  {
   "cell_type": "code",
   "execution_count": 19,
   "metadata": {
    "scrolled": true
   },
   "outputs": [
    {
     "data": {
      "text/plain": [
       "XGBClassifier(base_score=0.5, booster='gbtree', colsample_bylevel=1,\n",
       "              colsample_bynode=1, colsample_bytree=0.95, gamma=0, gpu_id=-1,\n",
       "              importance_type='gain', interaction_constraints='',\n",
       "              learning_rate=0.300000012, max_delta_step=0, max_depth=5,\n",
       "              min_child_weight=1, missing=nan, monotone_constraints='()',\n",
       "              n_estimators=500, n_jobs=0, num_class=10, num_parallel_tree=1,\n",
       "              objective='multi:softprob', random_state=0, reg_alpha=0,\n",
       "              reg_lambda=1, scale_pos_weight=None, subsample=0.8,\n",
       "              tree_method='exact', validate_parameters=1, verbosity=None)"
      ]
     },
     "execution_count": 19,
     "metadata": {},
     "output_type": "execute_result"
    }
   ],
   "source": [
    "# train the model\n",
    "xgb_clf.fit(X_train, Y_train)"
   ]
  },
  {
   "cell_type": "code",
   "execution_count": 20,
   "metadata": {},
   "outputs": [
    {
     "name": "stdout",
     "output_type": "stream",
     "text": [
      "0.9761904761904762\n"
     ]
    }
   ],
   "source": [
    "# make the prediction\n",
    "xgb_preds = xgb_clf.predict(X_val)\n",
    "# calculate the accuracy based on the validation set\n",
    "xgb_acc = sum(xgb_preds==Y_val)/len(Y_val)\n",
    "print(xgb_acc)"
   ]
  },
  {
   "cell_type": "markdown",
   "metadata": {},
   "source": [
    "The accuracy is 97.62%, it improves a lot from the logistic model. We can take a look at the confusion matrix as well."
   ]
  },
  {
   "cell_type": "code",
   "execution_count": 21,
   "metadata": {},
   "outputs": [
    {
     "data": {
      "text/plain": [
       "Text(0.5, 1, 'XGBoost Accuracy Score: 97.62%')"
      ]
     },
     "execution_count": 21,
     "metadata": {},
     "output_type": "execute_result"
    },
    {
     "data": {
      "image/png": "[encoded data removed]",
      "text/plain": [
       "<Figure size 648x648 with 2 Axes>"
      ]
     },
     "metadata": {
      "needs_background": "light"
     },
     "output_type": "display_data"
    }
   ],
   "source": [
    "# calculate the confusion matrix\n",
    "xgb_cm = metrics.confusion_matrix(Y_val, xgb_preds)\n",
    "\n",
    "plt.figure(figsize=(9,9))\n",
    "sns.heatmap(xgb_cm, annot=True, fmt=\".2f\", linewidths=.5, square = True, cmap = 'Blues')\n",
    "plt.ylabel('Actual label')\n",
    "plt.xlabel('Predicted label')\n",
    "all_sample_title = 'XGBoost Accuracy Score: {0:.2f}%'.format(xgb_acc*100)\n",
    "plt.title(all_sample_title, size = 15)"
   ]
  },
  {
   "cell_type": "markdown",
   "metadata": {},
   "source": [
    "#### 3.3 CNN <a id='Part_3_3'></a>"
   ]
  },
  {
   "cell_type": "markdown",
   "metadata": {},
   "source": [
    "Let's try if CNN model can keep improving the accuracy."
   ]
  },
  {
   "cell_type": "code",
   "execution_count": 34,
   "metadata": {},
   "outputs": [
    {
     "name": "stderr",
     "output_type": "stream",
     "text": [
      "Using TensorFlow backend.\n",
      "/Users/harryliyi/opt/anaconda3/envs/py37/lib/python3.7/site-packages/tensorflow/python/framework/dtypes.py:526: FutureWarning: Passing (type, 1) or '1type' as a synonym of type is deprecated; in a future version of numpy, it will be understood as (type, (1,)) / '(1,)type'.\n",
      "  _np_qint8 = np.dtype([(\"qint8\", np.int8, 1)])\n",
      "/Users/harryliyi/opt/anaconda3/envs/py37/lib/python3.7/site-packages/tensorflow/python/framework/dtypes.py:527: FutureWarning: Passing (type, 1) or '1type' as a synonym of type is deprecated; in a future version of numpy, it will be understood as (type, (1,)) / '(1,)type'.\n",
      "  _np_quint8 = np.dtype([(\"quint8\", np.uint8, 1)])\n",
      "/Users/harryliyi/opt/anaconda3/envs/py37/lib/python3.7/site-packages/tensorflow/python/framework/dtypes.py:528: FutureWarning: Passing (type, 1) or '1type' as a synonym of type is deprecated; in a future version of numpy, it will be understood as (type, (1,)) / '(1,)type'.\n",
      "  _np_qint16 = np.dtype([(\"qint16\", np.int16, 1)])\n",
      "/Users/harryliyi/opt/anaconda3/envs/py37/lib/python3.7/site-packages/tensorflow/python/framework/dtypes.py:529: FutureWarning: Passing (type, 1) or '1type' as a synonym of type is deprecated; in a future version of numpy, it will be understood as (type, (1,)) / '(1,)type'.\n",
      "  _np_quint16 = np.dtype([(\"quint16\", np.uint16, 1)])\n",
      "/Users/harryliyi/opt/anaconda3/envs/py37/lib/python3.7/site-packages/tensorflow/python/framework/dtypes.py:530: FutureWarning: Passing (type, 1) or '1type' as a synonym of type is deprecated; in a future version of numpy, it will be understood as (type, (1,)) / '(1,)type'.\n",
      "  _np_qint32 = np.dtype([(\"qint32\", np.int32, 1)])\n",
      "/Users/harryliyi/opt/anaconda3/envs/py37/lib/python3.7/site-packages/tensorflow/python/framework/dtypes.py:535: FutureWarning: Passing (type, 1) or '1type' as a synonym of type is deprecated; in a future version of numpy, it will be understood as (type, (1,)) / '(1,)type'.\n",
      "  np_resource = np.dtype([(\"resource\", np.ubyte, 1)])\n"
     ]
    }
   ],
   "source": [
    "import keras.models as km\n",
    "import keras.layers as kl\n",
    "import keras.utils as ku\n",
    "import keras.optimizers as ko\n",
    "from keras.callbacks import ReduceLROnPlateau\n",
    "from keras.preprocessing.image import ImageDataGenerator"
   ]
  },
  {
   "cell_type": "markdown",
   "metadata": {},
   "source": [
    "We need to first define an architecture of CNN. Here I arbitrarily choose a relatively simple CNN architecture. \n",
    "\n",
    "The CNN model has two conv2D layers with 16 filters and window size of 5 at first, following with a max pooling layer. Then two conv2D layers with 32 filters and window size of 3 are added to the model, followed by an another max pooling layer. Finally a fully connected NN layer with 256 hidden nodes is added to the model and softmax function is selected as the activation function for the output of the last fully connected NN layer in order to make multiclass prediction. Notice that, to avoid overfitting, a dropout method is used in this CNN, which randomly ignores a proportion of nodes for each traning sample."
   ]
  },
  {
   "cell_type": "code",
   "execution_count": 69,
   "metadata": {},
   "outputs": [],
   "source": [
    "def cnn_model(numfm, numnodes, input_shape=(28, 28, 1), output_size=10):\n",
    "    '''\n",
    "    numfm: integer, number of filters for the first two Conv2D layers\n",
    "    numnodes: integer, number of hidden nodes in the fully connected NN layer\n",
    "    '''\n",
    "\n",
    "    # Initialize the model.\n",
    "    model = km.Sequential()\n",
    "\n",
    "    # Add a 2D convolution layer, with numfm feature maps.\n",
    "    model.add(kl.Conv2D(numfm, kernel_size=(5, 5),\n",
    "                        input_shape=input_shape,\n",
    "                        activation='relu'))\n",
    "    model.add(kl.Conv2D(numfm, kernel_size=(5, 5),\n",
    "                        activation='relu'))\n",
    "    # Add a max pooling layer.\n",
    "    model.add(kl.MaxPooling2D(pool_size=(2, 2)))\n",
    "    model.add(kl.Dropout(0.25))\n",
    "\n",
    "    # Second layer\n",
    "    model.add(kl.Conv2D(numfm * 2, kernel_size=(3, 3),\n",
    "                        activation='relu'))\n",
    "    model.add(kl.Conv2D(numfm * 2, kernel_size=(3, 3),\n",
    "                        activation='relu'))\n",
    "    # Add a max pooling layer.\n",
    "    model.add(kl.MaxPooling2D(pool_size=(2, 2),\n",
    "                              strides=(2, 2)))\n",
    "    model.add(kl.Dropout(0.25))\n",
    "\n",
    "    # Convert the network from 2D to 1D.\n",
    "    model.add(kl.Flatten())\n",
    "\n",
    "    # Add a fully-connected layer.\n",
    "    model.add(kl.Dense(numnodes,\n",
    "                       activation='relu'))\n",
    "    model.add(kl.Dropout(0.5))\n",
    "    # Add the output layer.\n",
    "    model.add(kl.Dense(10, activation='softmax'))\n",
    "\n",
    "    # Return the model.\n",
    "    return model"
   ]
  },
  {
   "cell_type": "code",
   "execution_count": 89,
   "metadata": {
    "scrolled": true
   },
   "outputs": [
    {
     "name": "stdout",
     "output_type": "stream",
     "text": [
      "Model: \"sequential_6\"\n",
      "_________________________________________________________________\n",
      "Layer (type)                 Output Shape              Param #   \n",
      "=================================================================\n",
      "conv2d_21 (Conv2D)           (None, 24, 24, 16)        416       \n",
      "_________________________________________________________________\n",
      "conv2d_22 (Conv2D)           (None, 20, 20, 16)        6416      \n",
      "_________________________________________________________________\n",
      "max_pooling2d_11 (MaxPooling (None, 10, 10, 16)        0         \n",
      "_________________________________________________________________\n",
      "dropout_16 (Dropout)         (None, 10, 10, 16)        0         \n",
      "_________________________________________________________________\n",
      "conv2d_23 (Conv2D)           (None, 8, 8, 32)          4640      \n",
      "_________________________________________________________________\n",
      "conv2d_24 (Conv2D)           (None, 6, 6, 32)          9248      \n",
      "_________________________________________________________________\n",
      "max_pooling2d_12 (MaxPooling (None, 3, 3, 32)          0         \n",
      "_________________________________________________________________\n",
      "dropout_17 (Dropout)         (None, 3, 3, 32)          0         \n",
      "_________________________________________________________________\n",
      "flatten_6 (Flatten)          (None, 288)               0         \n",
      "_________________________________________________________________\n",
      "dense_11 (Dense)             (None, 256)               73984     \n",
      "_________________________________________________________________\n",
      "dropout_18 (Dropout)         (None, 256)               0         \n",
      "_________________________________________________________________\n",
      "dense_12 (Dense)             (None, 10)                2570      \n",
      "=================================================================\n",
      "Total params: 97,274\n",
      "Trainable params: 97,274\n",
      "Non-trainable params: 0\n",
      "_________________________________________________________________\n"
     ]
    }
   ],
   "source": [
    "# employ model\n",
    "cnn_clf = cnn_model(16, 256)\n",
    "cnn_clf.summary()"
   ]
  },
  {
   "cell_type": "markdown",
   "metadata": {},
   "source": [
    "Next step is to set up the loss function and optimization algorithm. Here I use 'categorical_crossentropy' as the loss function for multiclass classification. The RMSprop optimizer is chosen instead of Stochastic Gradient Descent (sgd), since RMSprop is faster than RMSprop."
   ]
  },
  {
   "cell_type": "code",
   "execution_count": 91,
   "metadata": {},
   "outputs": [],
   "source": [
    "# Define the optimizer\n",
    "optimizer = ko.RMSprop(lr=0.001, rho=0.9, epsilon=1e-08, decay=0.0)\n",
    "cnn_clf.compile(loss=\"categorical_crossentropy\", optimizer=optimizer, metrics=['accuracy'])"
   ]
  },
  {
   "cell_type": "markdown",
   "metadata": {},
   "source": [
    "In order to make the optimizer converge faster and closest to the global minimum of the loss function, we can gradually reduce the learning rate."
   ]
  },
  {
   "cell_type": "code",
   "execution_count": 92,
   "metadata": {},
   "outputs": [],
   "source": [
    "# Set a learning rate annealer\n",
    "learning_rate_reduction = ReduceLROnPlateau(monitor='val_loss',  patience=3,  verbose=1,\n",
    "                                            factor=0.5,  min_lr=0.00001)"
   ]
  },
  {
   "cell_type": "code",
   "execution_count": 93,
   "metadata": {},
   "outputs": [],
   "source": [
    "# define maximum epochs and batch size\n",
    "epochs = 30 \n",
    "batch_size = 100"
   ]
  },
  {
   "cell_type": "markdown",
   "metadata": {},
   "source": [
    "In order to train the CNN, the training set needs to be reshaped to 28 by 28 by 1, and the labels need to be encoded to one-hot vectors."
   ]
  },
  {
   "cell_type": "code",
   "execution_count": 94,
   "metadata": {},
   "outputs": [],
   "source": [
    "# reshape the training and validation set\n",
    "X_train_reshape = X_train.reshape(-1, 28, 28, 1)\n",
    "X_val_reshape = X_val.reshape(-1, 28, 28, 1)\n",
    "\n",
    "# encode to one-hot vectors\n",
    "Y_train_dummies = pd.get_dummies(Y_train)\n",
    "Y_val_dummies = pd.get_dummies(Y_val)\n",
    "Y_train_dummies = Y_train_dummies.values\n",
    "Y_val_dummies = Y_val_dummies.values"
   ]
  },
  {
   "cell_type": "markdown",
   "metadata": {},
   "source": [
    "Let's train the model."
   ]
  },
  {
   "cell_type": "code",
   "execution_count": 95,
   "metadata": {
    "scrolled": true
   },
   "outputs": [
    {
     "name": "stdout",
     "output_type": "stream",
     "text": [
      "Train on 37800 samples, validate on 4200 samples\n",
      "Epoch 1/30\n",
      " - 60s - loss: 0.4469 - accuracy: 0.8548 - val_loss: 0.0898 - val_accuracy: 0.9690\n",
      "Epoch 2/30\n",
      " - 57s - loss: 0.1366 - accuracy: 0.9585 - val_loss: 0.0692 - val_accuracy: 0.9774\n",
      "Epoch 3/30\n",
      " - 59s - loss: 0.0953 - accuracy: 0.9715 - val_loss: 0.0518 - val_accuracy: 0.9831\n",
      "Epoch 4/30\n",
      " - 59s - loss: 0.0780 - accuracy: 0.9761 - val_loss: 0.0561 - val_accuracy: 0.9817\n",
      "Epoch 5/30\n",
      " - 59s - loss: 0.0653 - accuracy: 0.9802 - val_loss: 0.0585 - val_accuracy: 0.9843\n",
      "Epoch 6/30\n",
      " - 58s - loss: 0.0577 - accuracy: 0.9815 - val_loss: 0.0417 - val_accuracy: 0.9879\n",
      "Epoch 7/30\n",
      " - 62s - loss: 0.0536 - accuracy: 0.9833 - val_loss: 0.0424 - val_accuracy: 0.9874\n",
      "Epoch 8/30\n",
      " - 61s - loss: 0.0504 - accuracy: 0.9848 - val_loss: 0.0344 - val_accuracy: 0.9890\n",
      "Epoch 9/30\n",
      " - 57s - loss: 0.0489 - accuracy: 0.9856 - val_loss: 0.0388 - val_accuracy: 0.9871\n",
      "Epoch 10/30\n",
      " - 56s - loss: 0.0455 - accuracy: 0.9865 - val_loss: 0.0390 - val_accuracy: 0.9886\n",
      "Epoch 11/30\n",
      " - 60s - loss: 0.0430 - accuracy: 0.9864 - val_loss: 0.0362 - val_accuracy: 0.9895\n",
      "\n",
      "Epoch 00011: ReduceLROnPlateau reducing learning rate to 0.0005000000237487257.\n",
      "Epoch 12/30\n",
      " - 56s - loss: 0.0355 - accuracy: 0.9895 - val_loss: 0.0317 - val_accuracy: 0.9910\n",
      "Epoch 13/30\n",
      " - 58s - loss: 0.0313 - accuracy: 0.9899 - val_loss: 0.0357 - val_accuracy: 0.9900\n",
      "Epoch 14/30\n",
      " - 58s - loss: 0.0304 - accuracy: 0.9903 - val_loss: 0.0326 - val_accuracy: 0.9914\n",
      "Epoch 15/30\n",
      " - 59s - loss: 0.0302 - accuracy: 0.9907 - val_loss: 0.0337 - val_accuracy: 0.9898\n",
      "\n",
      "Epoch 00015: ReduceLROnPlateau reducing learning rate to 0.0002500000118743628.\n",
      "Epoch 16/30\n",
      " - 56s - loss: 0.0265 - accuracy: 0.9913 - val_loss: 0.0305 - val_accuracy: 0.9917\n",
      "Epoch 17/30\n",
      " - 56s - loss: 0.0242 - accuracy: 0.9926 - val_loss: 0.0308 - val_accuracy: 0.9914\n",
      "Epoch 18/30\n",
      " - 57s - loss: 0.0241 - accuracy: 0.9924 - val_loss: 0.0305 - val_accuracy: 0.9912\n",
      "Epoch 19/30\n",
      " - 56s - loss: 0.0232 - accuracy: 0.9927 - val_loss: 0.0288 - val_accuracy: 0.9921\n",
      "Epoch 20/30\n",
      " - 57s - loss: 0.0230 - accuracy: 0.9926 - val_loss: 0.0335 - val_accuracy: 0.9907\n",
      "Epoch 21/30\n",
      " - 60s - loss: 0.0230 - accuracy: 0.9926 - val_loss: 0.0271 - val_accuracy: 0.9914\n",
      "Epoch 22/30\n",
      " - 63s - loss: 0.0215 - accuracy: 0.9930 - val_loss: 0.0342 - val_accuracy: 0.9902\n",
      "Epoch 23/30\n",
      " - 62s - loss: 0.0219 - accuracy: 0.9931 - val_loss: 0.0349 - val_accuracy: 0.9905\n",
      "Epoch 24/30\n",
      " - 57s - loss: 0.0221 - accuracy: 0.9929 - val_loss: 0.0303 - val_accuracy: 0.9912\n",
      "\n",
      "Epoch 00024: ReduceLROnPlateau reducing learning rate to 0.0001250000059371814.\n",
      "Epoch 25/30\n",
      " - 57s - loss: 0.0203 - accuracy: 0.9935 - val_loss: 0.0312 - val_accuracy: 0.9912\n",
      "Epoch 26/30\n",
      " - 57s - loss: 0.0175 - accuracy: 0.9946 - val_loss: 0.0299 - val_accuracy: 0.9919\n",
      "Epoch 27/30\n",
      " - 58s - loss: 0.0183 - accuracy: 0.9940 - val_loss: 0.0310 - val_accuracy: 0.9912\n",
      "\n",
      "Epoch 00027: ReduceLROnPlateau reducing learning rate to 6.25000029685907e-05.\n",
      "Epoch 28/30\n",
      " - 58s - loss: 0.0173 - accuracy: 0.9944 - val_loss: 0.0297 - val_accuracy: 0.9919\n",
      "Epoch 29/30\n",
      " - 63s - loss: 0.0180 - accuracy: 0.9946 - val_loss: 0.0309 - val_accuracy: 0.9921\n",
      "Epoch 30/30\n",
      " - 57s - loss: 0.0186 - accuracy: 0.9943 - val_loss: 0.0286 - val_accuracy: 0.9926\n",
      "\n",
      "Epoch 00030: ReduceLROnPlateau reducing learning rate to 3.125000148429535e-05.\n"
     ]
    }
   ],
   "source": [
    "cnn_history = cnn_clf.fit(X_train_reshape, Y_train_dummies, \n",
    "                          batch_size = batch_size, \n",
    "                          epochs = epochs,\n",
    "                          validation_data = (X_val_reshape, Y_val_dummies),\n",
    "                          verbose = 2,\n",
    "                          callbacks=[learning_rate_reduction]\n",
    "                   )"
   ]
  },
  {
   "cell_type": "markdown",
   "metadata": {},
   "source": [
    "From the record, we can see that the training accuracy is 99.43% and the validation accuracy is 99.26% after 30 epochs. Let's take a look at the confusion matrix."
   ]
  },
  {
   "cell_type": "code",
   "execution_count": 97,
   "metadata": {},
   "outputs": [
    {
     "data": {
      "text/plain": [
       "Text(0.5, 1, 'Accuracy Score: 99.26%')"
      ]
     },
     "execution_count": 97,
     "metadata": {},
     "output_type": "execute_result"
    },
    {
     "data": {
      "image/png": "[encoded data removed]",
      "text/plain": [
       "<Figure size 648x648 with 2 Axes>"
      ]
     },
     "metadata": {
      "needs_background": "light"
     },
     "output_type": "display_data"
    }
   ],
   "source": [
    "# Predict the values from the validation dataset\n",
    "cnn_pred_dummies = cnn_clf.predict(X_val_reshape)\n",
    "\n",
    "# Convert predicted one-hot vectors to classes\n",
    "cnn_pred = np.argmax(cnn_pred_dummies,axis = 1) \n",
    "\n",
    "# calculate the confusion matrix\n",
    "cnn_cm = metrics.confusion_matrix(Y_val, cnn_pred)\n",
    "\n",
    "# calculate the accuracy based on the validation set\n",
    "cnn_acc = sum(cnn_pred==Y_val)/len(Y_val)\n",
    "\n",
    "# plot the confusion matrix\n",
    "plt.figure(figsize=(9,9))\n",
    "sns.heatmap(cnn_cm, annot=True, fmt=\".2f\", linewidths=.5, square = True, cmap = 'Blues')\n",
    "plt.ylabel('Actual label')\n",
    "plt.xlabel('Predicted label')\n",
    "all_sample_title = 'Accuracy Score: {0:.2f}%'.format(cnn_acc*100)\n",
    "plt.title(all_sample_title, size = 15)"
   ]
  },
  {
   "cell_type": "markdown",
   "metadata": {},
   "source": [
    "Great! CNN shows an even better performance than XGBoost. Can we further improve the accuracy? It should be noted that CNN has 97,274 parameters, while we only have 37800 images for training. Hence there is a risk of overfitting. One way to reduce the risk of overfitting is to artificially expand our handwritten data set by randomly altering the existing images with small transformation. "
   ]
  },
  {
   "cell_type": "code",
   "execution_count": 86,
   "metadata": {},
   "outputs": [],
   "source": [
    "# define a image generator\n",
    "datagen = ImageDataGenerator(featurewise_center=False,\n",
    "                             samplewise_center=False,\n",
    "                             featurewise_std_normalization=False,\n",
    "                             samplewise_std_normalization=False,\n",
    "                             zca_whitening=False,\n",
    "                             rotation_range=10,        # randomly rotate images (in degrees) in the range\n",
    "                             zoom_range=0.1,           # Randomly zoom image \n",
    "                             width_shift_range=0.1,    # randomly shift images horizontally \n",
    "                             height_shift_range=0.1,   # randomly shift images vertically\n",
    "                             horizontal_flip=False,\n",
    "                             vertical_flip=False)\n",
    "\n",
    "datagen.fit(X_train_reshape)"
   ]
  },
  {
   "cell_type": "markdown",
   "metadata": {},
   "source": [
    "May need to increase epochs as well."
   ]
  },
  {
   "cell_type": "code",
   "execution_count": 99,
   "metadata": {
    "scrolled": true
   },
   "outputs": [
    {
     "name": "stdout",
     "output_type": "stream",
     "text": [
      "Epoch 1/50\n",
      " - 63s - loss: 0.6774 - accuracy: 0.7783 - val_loss: 0.1070 - val_accuracy: 0.9674\n",
      "Epoch 2/50\n",
      " - 60s - loss: 0.2168 - accuracy: 0.9354 - val_loss: 0.0586 - val_accuracy: 0.9824\n",
      "Epoch 3/50\n",
      " - 64s - loss: 0.1598 - accuracy: 0.9525 - val_loss: 0.0509 - val_accuracy: 0.9860\n",
      "Epoch 4/50\n",
      " - 63s - loss: 0.1375 - accuracy: 0.9601 - val_loss: 0.0445 - val_accuracy: 0.9871\n",
      "Epoch 5/50\n",
      " - 60s - loss: 0.1156 - accuracy: 0.9661 - val_loss: 0.0428 - val_accuracy: 0.9867\n",
      "Epoch 6/50\n",
      " - 59s - loss: 0.1109 - accuracy: 0.9686 - val_loss: 0.0496 - val_accuracy: 0.9860\n",
      "Epoch 7/50\n",
      " - 60s - loss: 0.1033 - accuracy: 0.9708 - val_loss: 0.0390 - val_accuracy: 0.9895\n",
      "Epoch 8/50\n",
      " - 61s - loss: 0.0982 - accuracy: 0.9725 - val_loss: 0.0455 - val_accuracy: 0.9876\n",
      "Epoch 9/50\n",
      " - 62s - loss: 0.0965 - accuracy: 0.9722 - val_loss: 0.0600 - val_accuracy: 0.9845\n",
      "Epoch 10/50\n",
      " - 62s - loss: 0.1007 - accuracy: 0.9732 - val_loss: 0.0560 - val_accuracy: 0.9871\n",
      "\n",
      "Epoch 00010: ReduceLROnPlateau reducing learning rate to 0.0010000000474974513.\n",
      "Epoch 11/50\n",
      " - 60s - loss: 0.0745 - accuracy: 0.9796 - val_loss: 0.0565 - val_accuracy: 0.9874\n",
      "Epoch 12/50\n",
      " - 60s - loss: 0.0743 - accuracy: 0.9799 - val_loss: 0.0513 - val_accuracy: 0.9893\n",
      "Epoch 13/50\n",
      " - 61s - loss: 0.0733 - accuracy: 0.9789 - val_loss: 0.0444 - val_accuracy: 0.9900\n",
      "\n",
      "Epoch 00013: ReduceLROnPlateau reducing learning rate to 0.0005000000237487257.\n",
      "Epoch 14/50\n",
      " - 59s - loss: 0.0583 - accuracy: 0.9835 - val_loss: 0.0466 - val_accuracy: 0.9902\n",
      "Epoch 15/50\n",
      " - 60s - loss: 0.0597 - accuracy: 0.9829 - val_loss: 0.0495 - val_accuracy: 0.9888\n",
      "Epoch 16/50\n",
      " - 60s - loss: 0.0557 - accuracy: 0.9838 - val_loss: 0.0424 - val_accuracy: 0.9914\n",
      "\n",
      "Epoch 00016: ReduceLROnPlateau reducing learning rate to 0.0002500000118743628.\n",
      "Epoch 17/50\n",
      " - 60s - loss: 0.0584 - accuracy: 0.9838 - val_loss: 0.0429 - val_accuracy: 0.9905\n",
      "Epoch 18/50\n",
      " - 62s - loss: 0.0538 - accuracy: 0.9852 - val_loss: 0.0405 - val_accuracy: 0.9910\n",
      "Epoch 19/50\n",
      " - 60s - loss: 0.0579 - accuracy: 0.9840 - val_loss: 0.0387 - val_accuracy: 0.9910\n",
      "Epoch 20/50\n",
      " - 59s - loss: 0.0554 - accuracy: 0.9844 - val_loss: 0.0416 - val_accuracy: 0.9914\n",
      "Epoch 21/50\n",
      " - 61s - loss: 0.0552 - accuracy: 0.9840 - val_loss: 0.0408 - val_accuracy: 0.9912\n",
      "Epoch 22/50\n",
      " - 60s - loss: 0.0542 - accuracy: 0.9852 - val_loss: 0.0415 - val_accuracy: 0.9907\n",
      "\n",
      "Epoch 00022: ReduceLROnPlateau reducing learning rate to 0.0001250000059371814.\n",
      "Epoch 23/50\n",
      " - 62s - loss: 0.0538 - accuracy: 0.9854 - val_loss: 0.0411 - val_accuracy: 0.9910\n",
      "Epoch 24/50\n",
      " - 59s - loss: 0.0500 - accuracy: 0.9858 - val_loss: 0.0387 - val_accuracy: 0.9921\n",
      "Epoch 25/50\n",
      " - 59s - loss: 0.0467 - accuracy: 0.9862 - val_loss: 0.0401 - val_accuracy: 0.9917\n",
      "\n",
      "Epoch 00025: ReduceLROnPlateau reducing learning rate to 6.25000029685907e-05.\n",
      "Epoch 26/50\n",
      " - 61s - loss: 0.0501 - accuracy: 0.9860 - val_loss: 0.0401 - val_accuracy: 0.9917\n",
      "Epoch 27/50\n",
      " - 60s - loss: 0.0503 - accuracy: 0.9863 - val_loss: 0.0384 - val_accuracy: 0.9917\n",
      "Epoch 28/50\n",
      " - 61s - loss: 0.0504 - accuracy: 0.9856 - val_loss: 0.0412 - val_accuracy: 0.9912\n",
      "Epoch 29/50\n",
      " - 60s - loss: 0.0483 - accuracy: 0.9863 - val_loss: 0.0404 - val_accuracy: 0.9921\n",
      "Epoch 30/50\n",
      " - 59s - loss: 0.0495 - accuracy: 0.9860 - val_loss: 0.0410 - val_accuracy: 0.9912\n",
      "\n",
      "Epoch 00030: ReduceLROnPlateau reducing learning rate to 3.125000148429535e-05.\n",
      "Epoch 31/50\n",
      " - 62s - loss: 0.0481 - accuracy: 0.9868 - val_loss: 0.0423 - val_accuracy: 0.9907\n",
      "Epoch 32/50\n",
      " - 60s - loss: 0.0478 - accuracy: 0.9866 - val_loss: 0.0413 - val_accuracy: 0.9912\n",
      "Epoch 33/50\n",
      " - 60s - loss: 0.0504 - accuracy: 0.9862 - val_loss: 0.0407 - val_accuracy: 0.9912\n",
      "\n",
      "Epoch 00033: ReduceLROnPlateau reducing learning rate to 1.5625000742147677e-05.\n",
      "Epoch 34/50\n",
      " - 59s - loss: 0.0462 - accuracy: 0.9869 - val_loss: 0.0407 - val_accuracy: 0.9914\n",
      "Epoch 35/50\n",
      " - 59s - loss: 0.0452 - accuracy: 0.9868 - val_loss: 0.0395 - val_accuracy: 0.9914\n",
      "Epoch 36/50\n",
      " - 59s - loss: 0.0498 - accuracy: 0.9865 - val_loss: 0.0395 - val_accuracy: 0.9914\n",
      "\n",
      "Epoch 00036: ReduceLROnPlateau reducing learning rate to 1e-05.\n",
      "Epoch 37/50\n",
      " - 60s - loss: 0.0458 - accuracy: 0.9874 - val_loss: 0.0404 - val_accuracy: 0.9912\n",
      "Epoch 38/50\n",
      " - 60s - loss: 0.0485 - accuracy: 0.9858 - val_loss: 0.0402 - val_accuracy: 0.9914\n",
      "Epoch 39/50\n",
      " - 60s - loss: 0.0485 - accuracy: 0.9858 - val_loss: 0.0403 - val_accuracy: 0.9914\n",
      "Epoch 40/50\n",
      " - 59s - loss: 0.0495 - accuracy: 0.9858 - val_loss: 0.0399 - val_accuracy: 0.9917\n",
      "Epoch 41/50\n",
      " - 59s - loss: 0.0474 - accuracy: 0.9865 - val_loss: 0.0402 - val_accuracy: 0.9917\n",
      "Epoch 42/50\n",
      " - 59s - loss: 0.0461 - accuracy: 0.9867 - val_loss: 0.0402 - val_accuracy: 0.9914\n",
      "Epoch 43/50\n",
      " - 61s - loss: 0.0489 - accuracy: 0.9871 - val_loss: 0.0397 - val_accuracy: 0.9917\n",
      "Epoch 44/50\n",
      " - 59s - loss: 0.0449 - accuracy: 0.9876 - val_loss: 0.0401 - val_accuracy: 0.9921\n",
      "Epoch 45/50\n",
      " - 60s - loss: 0.0479 - accuracy: 0.9863 - val_loss: 0.0399 - val_accuracy: 0.9919\n",
      "Epoch 46/50\n",
      " - 59s - loss: 0.0477 - accuracy: 0.9870 - val_loss: 0.0396 - val_accuracy: 0.9919\n",
      "Epoch 47/50\n",
      " - 59s - loss: 0.0467 - accuracy: 0.9870 - val_loss: 0.0400 - val_accuracy: 0.9919\n",
      "Epoch 48/50\n",
      " - 61s - loss: 0.0469 - accuracy: 0.9862 - val_loss: 0.0399 - val_accuracy: 0.9919\n",
      "Epoch 49/50\n",
      " - 63s - loss: 0.0470 - accuracy: 0.9862 - val_loss: 0.0403 - val_accuracy: 0.9912\n",
      "Epoch 50/50\n",
      " - 59s - loss: 0.0486 - accuracy: 0.9862 - val_loss: 0.0406 - val_accuracy: 0.9914\n"
     ]
    }
   ],
   "source": [
    "# Reset the model\n",
    "cnn_new = cnn_model(16, 256)\n",
    "optimizer = ko.RMSprop(lr=0.002, rho=0.9, epsilon=1e-08, decay=0.0)\n",
    "cnn_new.compile(loss=\"categorical_crossentropy\", optimizer=optimizer, metrics=['accuracy'])\n",
    "learning_rate_reduction = ReduceLROnPlateau(monitor='val_loss',  patience=3,  verbose=1,\n",
    "                                            factor=0.5,  min_lr=0.00001)\n",
    "epochs = 50 \n",
    "\n",
    "# retrain the CNN model\n",
    "cnn_history_wtdatagen = cnn_new.fit_generator(datagen.flow(X_train_reshape, Y_train_dummies, batch_size=batch_size),\n",
    "                                              epochs = epochs,\n",
    "                                              validation_data = (X_val_reshape, Y_val_dummies),\n",
    "                                              verbose = 2,\n",
    "                                              steps_per_epoch = X_train_reshape.shape[0] // batch_size,\n",
    "                                              callbacks = [learning_rate_reduction]\n",
    "                                             )"
   ]
  },
  {
   "cell_type": "code",
   "execution_count": 100,
   "metadata": {},
   "outputs": [
    {
     "data": {
      "text/plain": [
       "Text(0.5, 1, 'CNN with Data Augmentation Accuracy Score: 99.14%')"
      ]
     },
     "execution_count": 100,
     "metadata": {},
     "output_type": "execute_result"
    },
    {
     "data": {
      "image/png": "[encoded data removed]",
      "text/plain": [
       "<Figure size 648x648 with 2 Axes>"
      ]
     },
     "metadata": {
      "needs_background": "light"
     },
     "output_type": "display_data"
    }
   ],
   "source": [
    "# Predict the values from the validation dataset\n",
    "cnn_new_pred_dummies = cnn_new.predict(X_val_reshape)\n",
    "\n",
    "# Convert predicted one-hot vectors to classes\n",
    "cnn_new_pred = np.argmax(cnn_new_pred_dummies,axis = 1) \n",
    "\n",
    "# calculate the confusion matrix\n",
    "cnn_new_cm = metrics.confusion_matrix(Y_val, cnn_new_pred)\n",
    "\n",
    "# calculate the accuracy based on the validation set\n",
    "cnn_new_acc = sum(cnn_new_pred==Y_val)/len(Y_val)\n",
    "\n",
    "# plot the confusion matrix\n",
    "plt.figure(figsize=(9,9))\n",
    "sns.heatmap(cnn_new_cm, annot=True, fmt=\".2f\", linewidths=.5, square = True, cmap = 'Blues')\n",
    "plt.ylabel('Actual label')\n",
    "plt.xlabel('Predicted label')\n",
    "all_sample_title = 'CNN with Data Augmentation Accuracy Score: {0:.2f}%'.format(cnn_new_acc*100)\n",
    "plt.title(all_sample_title, size = 15)"
   ]
  },
  {
   "cell_type": "markdown",
   "metadata": {},
   "source": [
    "It seems that CNN with Data Augmentation has a similar performance, the accuracy on the validation set is 99.14%. The validation accuracy is greater than the training accuracy almost evry time during the training, which means that the model doesn't overfit the training set. However the loss of training set is greater, this indicates that this CNN architecture may be too simple, we may need to further increase the complexity of the model, e.g. increase the number of filters to 32, or add more convolution layers. "
   ]
  },
  {
   "cell_type": "markdown",
   "metadata": {},
   "source": [
    "### 4. Summary and Submissions <a id='Part_4'></a>"
   ]
  },
  {
   "cell_type": "markdown",
   "metadata": {},
   "source": [
    "Three different models are used here to recognize the hand-written digits. Basic Logistic model acheives an good accuracy of 91.57%. XGBoost shows a better performance with an accuracy of 97.62% but the training time is much slower than Logistic model. CNN has the best performance and reaches over 99% accuracy! It took me roughly 30 min to train the CNN model on a single CPU core. The training speed will be dramatically improved if training on GPU.\n",
    "\n",
    "The performance of all three model can be further improved through tuning the hyper-parameters. GridSearchCV from the Scikit-learn package can be used for parameter search. For CNN, increasing the complexity and adding skip connection may be a way to improve the performance. Due to the limit of computational power, I leave the above for future work.\n",
    "\n",
    "Finally, we can predict the images in the test set and make a submission to Kaggle."
   ]
  },
  {
   "cell_type": "code",
   "execution_count": 102,
   "metadata": {},
   "outputs": [],
   "source": [
    "# reshape the training and validation set\n",
    "Test = test.values.reshape(-1, 28, 28, 1)\n",
    "\n",
    "# predict results\n",
    "results = cnn_new.predict(Test)\n",
    "\n",
    "# select the indix with the maximum probability\n",
    "results = np.argmax(results, axis=1)\n",
    "results = pd.Series(results, name=\"Label\")\n",
    "\n",
    "submission = pd.concat([pd.Series(range(1, 28001), name=\"ImageId\"), results], axis=1)\n",
    "submission.to_csv(\"digit_recognizer_cnn.csv\", index=False)"
   ]
  },
  {
   "cell_type": "code",
   "execution_count": null,
   "metadata": {},
   "outputs": [],
   "source": []
  }
 ],
 "metadata": {
  "kernelspec": {
   "display_name": "Python 3",
   "language": "python",
   "name": "python3"
  },
  "language_info": {
   "codemirror_mode": {
    "name": "ipython",
    "version": 3
   },
   "file_extension": ".py",
   "mimetype": "text/x-python",
   "name": "python",
   "nbconvert_exporter": "python",
   "pygments_lexer": "ipython3",
   "version": "3.7.8"
  }
 },
 "nbformat": 4,
 "nbformat_minor": 4
}
